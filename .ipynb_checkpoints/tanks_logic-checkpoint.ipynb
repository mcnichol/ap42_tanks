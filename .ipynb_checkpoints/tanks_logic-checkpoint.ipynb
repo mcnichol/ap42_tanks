{
 "cells": [
  {
   "cell_type": "raw",
   "metadata": {},
   "source": [
    "TO DO:\n",
    "    \n",
    "- complete a Cone Vertical Fixed Roof (VFT) Tank example equation (solve for LT)\n",
    "    - resolve psia vs psig issue with Pint\n",
    "    - resolve lb-mol issue with Pint (no units for moles?)\n",
    "    \n",
    "- create an output file that shows sample calcs and \n",
    "summary for submittal to agencies and clients\n",
    "\n",
    "- create a way of storing tank information for furture use\n",
    "    - panada database to csv\n",
    "    \n",
    "- reach goal: find equations for stuff like Figure 7.1-13a and 14a on page 79 so we use them to translate between RVP and psia for crude stock\n",
    "    \n",
    "- add hourly calculation\n",
    "- add dome roof calculation\n",
    "- add horizontal tank\n",
    "- add floating roof tanks\n",
    "- add rolling emission total feature"
   ]
  },
  {
   "cell_type": "markdown",
   "metadata": {},
   "source": [
    "### Imports"
   ]
  },
  {
   "cell_type": "code",
   "execution_count": 49,
   "metadata": {},
   "outputs": [],
   "source": [
    "import math, pint"
   ]
  },
  {
   "cell_type": "code",
   "execution_count": 11,
   "metadata": {},
   "outputs": [],
   "source": [
    "from pint import UnitRegistry\n",
    "ureg = UnitRegistry()\n",
    "\n",
    "# Pint is a Python package to define, operate and manipulate\n",
    "# physical quantities: the product of a numerical value and \n",
    "# a unit of measurement. It allows arithmetic operations \n",
    "# between them and conversions from and to different units. \n",
    "# It is distributed with a comprehensive list of physical \n",
    "# units, prefixes and constants.\n",
    "\n",
    "# list of units: https://github.com/hgrecco/pint/blob/master/pint/default_en.txt\n",
    "# to assign unit, variable = magnitude * ureg.unit\n",
    "# to re-assign units, variable.ito(ureg.unit)\n",
    "# scale units up or down, i.e., m to km, .to_compact()\n",
    "# convert to base units, .to_base_units()\n",
    "# dimensional reduction, .ito_reduced_units()"
   ]
  },
  {
   "cell_type": "markdown",
   "metadata": {},
   "source": [
    "### Problem Statement"
   ]
  },
  {
   "cell_type": "code",
   "execution_count": 104,
   "metadata": {},
   "outputs": [],
   "source": [
    "# Total Losses from a Vertical Fixed Roof Tank with Mixutre\n",
    "# https://www3.epa.gov/ttn/chief/ap42/ch07/final/c07s01.pdf\n",
    "# Eample starting on page 154\n",
    "\n",
    "tank_type = 'vertical'\n",
    "\n",
    "# Roof Type (Cone, Dome)\n",
    "roof_type = 'cone'\n",
    "city = 'Denver'\n",
    "state = 'Colorado'\n",
    "\n",
    "comp1 = ['benzene', 2812/3171]\n",
    "comp2 = ['toluene', 258/3171]\n",
    "comp3 = ['cyclohexane', 101/3171]\n",
    "\n",
    "# Working Volume, V = pi*r^2*(HLX-1)\n",
    "# Throughtput (gal/yr) = 8450\n",
    "# white"
   ]
  },
  {
   "cell_type": "markdown",
   "metadata": {},
   "source": [
    "### Constants"
   ]
  },
  {
   "cell_type": "code",
   "execution_count": 102,
   "metadata": {},
   "outputs": [
    {
     "data": {
      "text/html": [
       "\\[10.731\\ foot^3\\ pound\\_force\\_per\\_square\\_inch/degree\\_Rankine\\]"
      ],
      "text/latex": [
       "$10.731\\ \\frac{\\mathrm{foot}^{3} \\cdot \\mathrm{pound\\_force\\_per\\_square\\_inch}}{\\mathrm{degree\\_Rankine}}$"
      ],
      "text/plain": [
       "10.731 <Unit('foot ** 3 * pound_force_per_square_inch / degree_Rankine')>"
      ]
     },
     "execution_count": 102,
     "metadata": {},
     "output_type": "execute_result"
    }
   ],
   "source": [
    "# CONSTANTS\n",
    "\n",
    "# Ideal Gas Constant, psia*ft^3/lb-mole*°R)\n",
    "- psi is only option in pint?\n",
    "- need to be able to differentiate between gauage and atmospheric\n",
    "psig = psia - 14.7 (units: atmospheres)\n",
    "\n",
    "- \n",
    "\n",
    "# how to address lb-mole units and psia and psig\n",
    "R = 10.731 * ureg.psi * ureg.ft**3 / ureg.degR\n",
    "R"
   ]
  },
  {
   "cell_type": "markdown",
   "metadata": {},
   "source": [
    "### User Inputs"
   ]
  },
  {
   "cell_type": "code",
   "execution_count": 65,
   "metadata": {},
   "outputs": [],
   "source": [
    "# USER INPUTS: Variable - Description (range, units, default)\n",
    "\n",
    "# Diameter (> 5, ft)\n",
    "D = 6 * ureg.ft\n",
    "\n",
    "# Tank Shell Height (5 to 65, ft)\n",
    "HS = 12 * ureg.ft\n",
    "\n",
    "# Average Liquid Height\n",
    "HL = 8 * ureg.ft\n",
    "\n",
    "# Minimum Liquid Height (ft)\n",
    "HLN = 11.5 / ureg.ft\n",
    "\n",
    "# Maximum Liquid Height (ft)\n",
    "HLX = 4.5 / ureg.f\n",
    "\n",
    "# Tank Cone Roof Slope (Cone, ft/ft, 0.0625)\n",
    "SR = 0.0625 * ureg.ft / ureg.ft"
   ]
  },
  {
   "cell_type": "markdown",
   "metadata": {},
   "source": [
    "### KS, Vented Vapor Space Saturation Factor"
   ]
  },
  {
   "cell_type": "markdown",
   "metadata": {},
   "source": [
    "### KE, Vapor Space Expansion Factor"
   ]
  },
  {
   "cell_type": "markdown",
   "metadata": {},
   "source": [
    "### WV, Vapor Density"
   ]
  },
  {
   "cell_type": "code",
   "execution_count": null,
   "metadata": {},
   "outputs": [],
   "source": [
    "# VAPOR DENSITY, \n",
    "\n",
    "WV = ((MV * PVA) / (R * TLA))\n",
    "\n",
    "# MV = \n",
    "# PVA = \n",
    "# R = \n",
    "# TLA = "
   ]
  },
  {
   "cell_type": "markdown",
   "metadata": {},
   "source": [
    "### VV, Tank Vapor Space Volume"
   ]
  },
  {
   "cell_type": "markdown",
   "metadata": {},
   "source": [
    "##### Tank Shell Radius"
   ]
  },
  {
   "cell_type": "code",
   "execution_count": 134,
   "metadata": {},
   "outputs": [
    {
     "data": {
      "text/html": [
       "\\[3.0\\ foot\\]"
      ],
      "text/latex": [
       "$3.0\\ \\mathrm{foot}$"
      ],
      "text/plain": [
       "3.0 <Unit('foot')>"
      ]
     },
     "execution_count": 134,
     "metadata": {},
     "output_type": "execute_result"
    }
   ],
   "source": [
    "# TANK SHELL RADIUS, ft\n",
    "# D = diameter, ft\n",
    "\n",
    "RS = (1/2) * D\n",
    "RS"
   ]
  },
  {
   "cell_type": "markdown",
   "metadata": {},
   "source": [
    "##### Tank Roof Height"
   ]
  },
  {
   "cell_type": "code",
   "execution_count": 143,
   "metadata": {},
   "outputs": [
    {
     "data": {
      "text/html": [
       "\\[0.1875\\ foot\\]"
      ],
      "text/latex": [
       "$0.1875\\ \\mathrm{foot}$"
      ],
      "text/plain": [
       "0.1875 <Unit('foot')>"
      ]
     },
     "execution_count": 143,
     "metadata": {},
     "output_type": "execute_result"
    }
   ],
   "source": [
    "# Tank Roof Height, ft\n",
    "# SR = tank cone roof slope, ft/ft\n",
    "# RS = tank shell radius, ft\n",
    "\n",
    "HR = SR * RS\n",
    "HR\n",
    "# HR = SR * (1/2) * D"
   ]
  },
  {
   "cell_type": "markdown",
   "metadata": {},
   "source": [
    "##### Roof Outage"
   ]
  },
  {
   "cell_type": "code",
   "execution_count": 145,
   "metadata": {},
   "outputs": [],
   "source": [
    "# ROOF OUTAGE, ft (Eq. 1-17)\n",
    "# HR = tank roof height, ft\n",
    "\n",
    "HRO = (1/3) * HR\n",
    "HRO.ito_reduced_units()\n",
    "# HRO = (1/3) * SR * (1/2) * D"
   ]
  },
  {
   "cell_type": "markdown",
   "metadata": {},
   "source": [
    "##### Vapor Space Outage"
   ]
  },
  {
   "cell_type": "code",
   "execution_count": 148,
   "metadata": {},
   "outputs": [
    {
     "data": {
      "text/html": [
       "\\[4.0625\\ foot\\]"
      ],
      "text/latex": [
       "$4.0625\\ \\mathrm{foot}$"
      ],
      "text/plain": [
       "4.0625 <Unit('foot')>"
      ]
     },
     "execution_count": 148,
     "metadata": {},
     "output_type": "execute_result"
    }
   ],
   "source": [
    "# VAPOR SPACE OUTAGE, ft (Eq. 1-16)\n",
    "# HS = tank shell height, ft\n",
    "# HL = stock liquid height, ft\n",
    "# HRO = roof outage, ft\n",
    "\n",
    "HVO = HS - HL + HRO\n",
    "HVO\n",
    "# HVO = HS - HL + (1/3) * SR * (1/2) * D"
   ]
  },
  {
   "cell_type": "markdown",
   "metadata": {},
   "source": [
    "##### Vapor Space Volume"
   ]
  },
  {
   "cell_type": "code",
   "execution_count": 162,
   "metadata": {},
   "outputs": [
    {
     "data": {
      "text/html": [
       "\\[114.86\\ foot^3\\]"
      ],
      "text/latex": [
       "$114.86\\ \\mathrm{foot}^{3}$"
      ],
      "text/plain": [
       "114.86 <Unit('foot ** 3')>"
      ]
     },
     "execution_count": 162,
     "metadata": {},
     "output_type": "execute_result"
    }
   ],
   "source": [
    "# TANK VAPOR SPACE VOLUME, ft^3 (Eq. 1-3)\n",
    "# D = diameter, ft\n",
    "# HVO = vapor space outage, ft\n",
    "\n",
    "VV = (((math.pi/4) * D**2) * HVO).round(2)\n",
    "VV\n",
    "# VV = (((math.pi/4) * D**2) * (HS - HL + (1/3) * SR * (1/2) * D)).round(2)"
   ]
  },
  {
   "cell_type": "markdown",
   "metadata": {},
   "source": [
    "### LS, Standing Losses"
   ]
  },
  {
   "cell_type": "code",
   "execution_count": null,
   "metadata": {},
   "outputs": [],
   "source": [
    "# STANDING LOSSES (Eq. 1-2)\n",
    "\n",
    "LS = 365 * VV * WV * KE * KS\n",
    "\n",
    "# VV = tank vapor space volume, ft^3\n",
    "# WV = vapor density, lb/ft3\n",
    "# KE = vapor space expansion factor, per day\n",
    "# KS = vented vapor space saturation factor, dimensionless"
   ]
  },
  {
   "cell_type": "markdown",
   "metadata": {},
   "source": [
    "### VQ, Net Working Loss Throughput"
   ]
  },
  {
   "cell_type": "code",
   "execution_count": null,
   "metadata": {},
   "outputs": [],
   "source": [
    "# VQ = net working loss throughput, ft^3/yr"
   ]
  },
  {
   "cell_type": "markdown",
   "metadata": {},
   "source": [
    "### KN, Working Loss Turnover Factor"
   ]
  },
  {
   "cell_type": "code",
   "execution_count": null,
   "metadata": {},
   "outputs": [],
   "source": [
    "# KN = working loss turnover factor, dimensionless"
   ]
  },
  {
   "cell_type": "markdown",
   "metadata": {},
   "source": [
    "### KP, Working Loss Product Factor"
   ]
  },
  {
   "cell_type": "code",
   "execution_count": null,
   "metadata": {},
   "outputs": [],
   "source": [
    "# KP = working loss product factor, dimensionless"
   ]
  },
  {
   "cell_type": "markdown",
   "metadata": {},
   "source": [
    "### KB, Vent Setting Correction Factor"
   ]
  },
  {
   "cell_type": "code",
   "execution_count": null,
   "metadata": {},
   "outputs": [],
   "source": [
    "# KB = vent setting correction factor, dimensionless"
   ]
  },
  {
   "cell_type": "markdown",
   "metadata": {},
   "source": [
    "### LW, Working Losses"
   ]
  },
  {
   "cell_type": "code",
   "execution_count": null,
   "metadata": {},
   "outputs": [],
   "source": [
    "# WORKING LOSSES (Eq. 1-35)\n",
    "\n",
    "LW = VQ * KN * KP * WV * KB\n",
    "\n",
    "# VQ = net working loss throughput, ft^3/yr\n",
    "# KN = working loss turnover factor, dimensionless\n",
    "# KP = working loss product factor, dimensionless\n",
    "# KB = vent setting correction factor, dimensionless"
   ]
  },
  {
   "cell_type": "markdown",
   "metadata": {},
   "source": [
    "### LT, Total Losses"
   ]
  },
  {
   "cell_type": "code",
   "execution_count": null,
   "metadata": {},
   "outputs": [],
   "source": [
    "# TOTAL LOSSES (Eq. 1-1)\n",
    "\n",
    "LT = LS + LW\n",
    "\n",
    "# LT = total loss, lb/yr\n",
    "# LS = standing loss, lb/yr\n",
    "# LW = working loss, lb/yr "
   ]
  },
  {
   "cell_type": "markdown",
   "metadata": {},
   "source": [
    "### Output"
   ]
  },
  {
   "cell_type": "code",
   "execution_count": 161,
   "metadata": {},
   "outputs": [
    {
     "name": "stdout",
     "output_type": "stream",
     "text": [
      "Tank Shell Radius:  3.0 foot\n",
      "RS = (1/2) * D\n",
      "RS =  3.0 foot  = (1/2) *  6 foot\n",
      " \n",
      "Tank Roof Height:  0.1875 foot\n",
      "HR = SR * RS\n",
      "HR =  0.1875 foot  =  0.0625 dimensionless  *  3.0 foot\n",
      " \n",
      "Roof Outage:  0.0625 foot\n",
      "HRO = (1/3) * HR, (Eq. 1-17)\n",
      "HRO =  0.0625 foot  = (1/3) *  0.1875 foot\n",
      " \n",
      "Vapor Space Outage:  4.0625 foot\n",
      "HVO = HS - HL + HRO, (Eq. 1-16)\n",
      "HVO =  4.0625 foot  =  12 foot  -  8 foot  +  0.0625 foot\n",
      " \n",
      "Tank Vapor Space Volume:  114.86 foot ** 3\n",
      "VV = (((math.pi/4) * D**2) * HVO), (Eq. 1-3)\n",
      "VV =  114.86 foot ** 3  = (((pi/4) *  6 foot **2) *  4.0625 foot\n",
      " \n",
      " \n",
      " \n"
     ]
    }
   ],
   "source": [
    "print (\"Tank Shell Radius: \", RS)\n",
    "print (\"RS = (1/2) * D\")\n",
    "print (\"RS = \",RS,\" = (1/2) * \",D)\n",
    "print (\" \")\n",
    "print (\"Tank Roof Height: \", HR)\n",
    "print (\"HR = SR * RS\")\n",
    "print (\"HR = \",HR,\" = \",SR,\" * \",RS)\n",
    "print (\" \")\n",
    "print (\"Roof Outage: \", HRO)\n",
    "print (\"HRO = (1/3) * HR, (Eq. 1-17)\")\n",
    "print (\"HRO = \",HRO,\" = (1/3) * \",HR)\n",
    "print (\" \")\n",
    "print (\"Vapor Space Outage: \", HVO)\n",
    "print (\"HVO = HS - HL + HRO, (Eq. 1-16)\")\n",
    "print (\"HVO = \",HVO,\" = \",HS,\" - \",HL,\" + \",HRO)\n",
    "print (\" \")\n",
    "print (\"Tank Vapor Space Volume: \", VV)\n",
    "print (\"VV = (((math.pi/4) * D**2) * HVO), (Eq. 1-3)\")\n",
    "print (\"VV = \",VV,\" = (((pi/4) * \",D,\"**2) * \",HVO)\n",
    "print (\" \")"
   ]
  },
  {
   "cell_type": "code",
   "execution_count": null,
   "metadata": {},
   "outputs": [],
   "source": []
  }
 ],
 "metadata": {
  "kernelspec": {
   "display_name": "Conda [PythonData]",
   "language": "python",
   "name": "pythondata"
  },
  "language_info": {
   "codemirror_mode": {
    "name": "ipython",
    "version": 3
   },
   "file_extension": ".py",
   "mimetype": "text/x-python",
   "name": "python",
   "nbconvert_exporter": "python",
   "pygments_lexer": "ipython3",
   "version": "3.6.9"
  }
 },
 "nbformat": 4,
 "nbformat_minor": 2
}
