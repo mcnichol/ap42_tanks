{
 "cells": [
  {
   "cell_type": "markdown",
   "metadata": {},
   "source": [
    "### Problem Statement"
   ]
  },
  {
   "cell_type": "code",
   "execution_count": 3,
   "metadata": {},
   "outputs": [],
   "source": [
    "# Total Losses from a Vertical Fixed Roof Tank with Mixutre\n",
    "# https://www3.epa.gov/ttn/chief/ap42/ch07/final/c07s01.pdf\n",
    "# Example starting on page 154"
   ]
  },
  {
   "cell_type": "raw",
   "metadata": {},
   "source": [
    "TO DO:\n",
    "    \n",
    "- complete a Cone Vertical Fixed Roof (VFT) Tank example equation (solve for LT)\n",
    "\n",
    "- create an output file that shows sample calcs and  summary for submittal to agencies and clients\n",
    "\n",
    "- create a way of storing tank information for furture use\n",
    "    - panada database to csv\n",
    "    \n",
    "- reach goal: find equations for stuff like Figure 7.1-13a and 14a on page 79 so we use them to translate between RVP and psia for crude stock\n",
    "    \n",
    "- add hourly calculation\n",
    "- add dome roof calculation\n",
    "- add horizontal tank\n",
    "- add floating roof tanks\n",
    "- add rolling emission total feature"
   ]
  },
  {
   "cell_type": "code",
   "execution_count": null,
   "metadata": {},
   "outputs": [],
   "source": [
    "ISSUES:\n",
    "    - resolve psia vs psig issue with Pint\n",
    "    - resolve lb-mol issue with Pint (no units for moles?)\n",
    "    - resolve temperature issue"
   ]
  },
  {
   "cell_type": "code",
   "execution_count": null,
   "metadata": {},
   "outputs": [],
   "source": [
    "NEED TO UPDATE:\n",
    "    - new references tables from updated new AP42 guidelines"
   ]
  },
  {
   "cell_type": "markdown",
   "metadata": {},
   "source": [
    "### Imports"
   ]
  },
  {
   "cell_type": "code",
   "execution_count": 1,
   "metadata": {},
   "outputs": [],
   "source": [
    "import math, pint\n",
    "import pandas as pd"
   ]
  },
  {
   "cell_type": "code",
   "execution_count": 2,
   "metadata": {},
   "outputs": [],
   "source": [
    "from pint import UnitRegistry\n",
    "ureg = UnitRegistry()\n",
    "\n",
    "# Pint is a Python package to define, operate and manipulate\n",
    "# physical quantities: the product of a numerical value and \n",
    "# a unit of measurement. It allows arithmetic operations \n",
    "# between them and conversions from and to different units. \n",
    "# It is distributed with a comprehensive list of physical \n",
    "# units, prefixes and constants.\n",
    "\n",
    "# list of units: https://github.com/hgrecco/pint/blob/master/pint/default_en.txt\n",
    "# to assign unit, variable = magnitude * ureg.unit\n",
    "# to re-assign units, variable.ito(ureg.unit)\n",
    "# scale units up or down, i.e., m to km, .to_compact()\n",
    "# convert to base units, .to_base_units()\n",
    "# dimensional reduction, .ito_reduced_units()"
   ]
  },
  {
   "cell_type": "markdown",
   "metadata": {},
   "source": [
    "### Constants"
   ]
  },
  {
   "cell_type": "code",
   "execution_count": 4,
   "metadata": {},
   "outputs": [],
   "source": [
    "# CONSTANTS\n",
    "\n",
    "# Ideal Gas Constant, psia*ft^3/lb-mole*°R)\n",
    "# - psi is only option in pint?\n",
    "# - need to be able to differentiate between gauage and atmospheric\n",
    "# psig = psia - 14.7 (units: atmospheres)\n",
    "\n",
    "# how to address lb-mole units and psia and psig\n",
    "# R = 10.731 * ureg.psi * ureg.ft**3 / ureg.degR\n",
    "# R"
   ]
  },
  {
   "cell_type": "markdown",
   "metadata": {},
   "source": [
    "### User Inputs"
   ]
  },
  {
   "cell_type": "code",
   "execution_count": 100,
   "metadata": {},
   "outputs": [],
   "source": [
    "# USER INPUTS: Variable - Description (range, units, default)\n",
    "\n",
    "tank_type = 'vertical'\n",
    "roof_type = 'cone'\n",
    "\n",
    "comp1 = ['benzene', 2812/3171]\n",
    "comp2 = ['toluene', 258/3171]\n",
    "comp3 = ['cyclohexane', 101/3171]\n",
    "\n",
    "# Diameter (> 5, ft)\n",
    "D = 6 * ureg.ft\n",
    "\n",
    "# Tank Shell Height (5 to 65, ft)\n",
    "HS = 12 * ureg.ft\n",
    "\n",
    "# Average Liquid Height\n",
    "HL = 8 * ureg.ft\n",
    "\n",
    "# Minimum Liquid Height (ft)\n",
    "HLN = 11.5 / ureg.ft\n",
    "\n",
    "# Maximum Liquid Height (ft)\n",
    "HLX = 4.5 / ureg.ft\n",
    "\n",
    "# Tank Cone Roof Slope (Cone, ft/ft, 0.0625)\n",
    "SR = 0.0625 * ureg.ft / ureg.ft"
   ]
  },
  {
   "cell_type": "markdown",
   "metadata": {},
   "source": [
    "### AP-42 Reference Data"
   ]
  },
  {
   "cell_type": "markdown",
   "metadata": {},
   "source": [
    "##### Table 7.1-6 PAINT SOLAR ABSORPTANCE"
   ]
  },
  {
   "cell_type": "code",
   "execution_count": 116,
   "metadata": {},
   "outputs": [
    {
     "data": {
      "text/html": [
       "<div>\n",
       "<style scoped>\n",
       "    .dataframe tbody tr th:only-of-type {\n",
       "        vertical-align: middle;\n",
       "    }\n",
       "\n",
       "    .dataframe tbody tr th {\n",
       "        vertical-align: top;\n",
       "    }\n",
       "\n",
       "    .dataframe thead th {\n",
       "        text-align: right;\n",
       "    }\n",
       "</style>\n",
       "<table border=\"1\" class=\"dataframe\">\n",
       "  <thead>\n",
       "    <tr style=\"text-align: right;\">\n",
       "      <th></th>\n",
       "      <th>Paint Color</th>\n",
       "      <th>alpha_good</th>\n",
       "      <th>alpha_poor</th>\n",
       "    </tr>\n",
       "  </thead>\n",
       "  <tbody>\n",
       "    <tr>\n",
       "      <th>0</th>\n",
       "      <td>Aluminum Specular</td>\n",
       "      <td>0.39</td>\n",
       "      <td>0.49</td>\n",
       "    </tr>\n",
       "    <tr>\n",
       "      <th>1</th>\n",
       "      <td>Aluminum Diffuse</td>\n",
       "      <td>0.60</td>\n",
       "      <td>0.68</td>\n",
       "    </tr>\n",
       "    <tr>\n",
       "      <th>2</th>\n",
       "      <td>Aluminum Unpainted</td>\n",
       "      <td>0.10</td>\n",
       "      <td>0.15</td>\n",
       "    </tr>\n",
       "    <tr>\n",
       "      <th>3</th>\n",
       "      <td>Beige/Cream</td>\n",
       "      <td>0.35</td>\n",
       "      <td>0.49</td>\n",
       "    </tr>\n",
       "    <tr>\n",
       "      <th>4</th>\n",
       "      <td>Black</td>\n",
       "      <td>0.97</td>\n",
       "      <td>0.97</td>\n",
       "    </tr>\n",
       "  </tbody>\n",
       "</table>\n",
       "</div>"
      ],
      "text/plain": [
       "          Paint Color  alpha_good  alpha_poor\n",
       "0   Aluminum Specular        0.39        0.49\n",
       "1    Aluminum Diffuse        0.60        0.68\n",
       "2  Aluminum Unpainted        0.10        0.15\n",
       "3         Beige/Cream        0.35        0.49\n",
       "4               Black        0.97        0.97"
      ]
     },
     "execution_count": 116,
     "metadata": {},
     "output_type": "execute_result"
    }
   ],
   "source": [
    "alpha_data = pd.read_csv(\"ref_docs/ref_csv_files/ap42_ch7_alpha.csv\")\n",
    "alpha_data.head()"
   ]
  },
  {
   "cell_type": "code",
   "execution_count": 130,
   "metadata": {},
   "outputs": [
    {
     "name": "stdout",
     "output_type": "stream",
     "text": [
      "0.17\n"
     ]
    }
   ],
   "source": [
    "# Tank alpha, dimensionless\n",
    "\n",
    "# User Inputs\n",
    "tank_color = 'White'\n",
    "tank_condition = 'Good'\n",
    "\n",
    "# Filter Alpha Dataframe for Tank Color\n",
    "mask_tank_color = (alpha_data['Paint Color'] == 'White')\n",
    "tank_color_alpha_list = alpha_data.loc[mask_tank_color]\n",
    "\n",
    "\n",
    "# Select Alpha based on Tank Condition\n",
    "if tank_condition == 'Good':\n",
    "    tank_alpha = alpha_data.loc[mask_good]\n",
    "    tank_alpha = tank_color_alpha_list['alpha_good'].tolist()\n",
    "    tank_alpha = tank_alpha[0]\n",
    "    print(tank_alpha)\n",
    "    \n",
    "else:\n",
    "    tank_alpha = alpha_data.loc[mask_good]\n",
    "    tank_alpha = tank_color_alpha_list['alpha_poor'].tolist()\n",
    "    tank_alpha = tank_alpha[0]\n",
    "    print(tank_alpha)"
   ]
  },
  {
   "cell_type": "code",
   "execution_count": 131,
   "metadata": {},
   "outputs": [
    {
     "name": "stdout",
     "output_type": "stream",
     "text": [
      "0.17\n"
     ]
    }
   ],
   "source": [
    "# Shell Alpha, dimensionless\n",
    "\n",
    "# User Inputs\n",
    "shell_color = 'White'\n",
    "shell_condition = 'Good'\n",
    "\n",
    "# Filter Alpha Dataframe for Tank Color\n",
    "mask_shell_color = (alpha_data['Paint Color'] == 'White')\n",
    "shell_color_alpha_list = alpha_data.loc[mask_shell_color]\n",
    "\n",
    "\n",
    "# Select Alpha based on Tank Condition\n",
    "if shell_condition == 'Good':\n",
    "    shell_alpha = alpha_data.loc[mask_good]\n",
    "    shell_alpha = shell_color_alpha_list['alpha_good'].tolist()\n",
    "    shell_alpha = shell_alpha[0]\n",
    "    print(shell_alpha)\n",
    "    \n",
    "else:\n",
    "    shell_alpha = alpha_data.loc[mask_good]\n",
    "    shell_alpha = shell_color_alpha_list['alpha_poor'].tolist()\n",
    "    shell_alpha = shell_alpha[0]\n",
    "    print(shell_alpha)"
   ]
  },
  {
   "cell_type": "code",
   "execution_count": 132,
   "metadata": {},
   "outputs": [
    {
     "data": {
      "text/plain": [
       "0.17"
      ]
     },
     "execution_count": 132,
     "metadata": {},
     "output_type": "execute_result"
    }
   ],
   "source": [
    "# Note to Table 7.1-6. PAINT SOLAR ABSORPTANCE for alpha equation, pg 102\n",
    "alpha = (tank_alpha + shell_alpha)/2\n",
    "alpha"
   ]
  },
  {
   "cell_type": "markdown",
   "metadata": {},
   "source": [
    "##### Table 7.1-7 METEOROLOGICAL DATA (TAX, TAN, V, I, PA) FOR SELECTED U.S. LOCATIONS"
   ]
  },
  {
   "cell_type": "code",
   "execution_count": 59,
   "metadata": {},
   "outputs": [
    {
     "data": {
      "text/html": [
       "<div>\n",
       "<style scoped>\n",
       "    .dataframe tbody tr th:only-of-type {\n",
       "        vertical-align: middle;\n",
       "    }\n",
       "\n",
       "    .dataframe tbody tr th {\n",
       "        vertical-align: top;\n",
       "    }\n",
       "\n",
       "    .dataframe thead th {\n",
       "        text-align: right;\n",
       "    }\n",
       "</style>\n",
       "<table border=\"1\" class=\"dataframe\">\n",
       "  <thead>\n",
       "    <tr style=\"text-align: right;\">\n",
       "      <th></th>\n",
       "      <th>Location</th>\n",
       "      <th>Time_Code</th>\n",
       "      <th>TAN_F</th>\n",
       "      <th>TAX_F</th>\n",
       "      <th>I</th>\n",
       "      <th>v</th>\n",
       "      <th>PA_atm</th>\n",
       "    </tr>\n",
       "  </thead>\n",
       "  <tbody>\n",
       "    <tr>\n",
       "      <th>0</th>\n",
       "      <td>Amarillo, TX</td>\n",
       "      <td>1</td>\n",
       "      <td>21.7</td>\n",
       "      <td>49.1</td>\n",
       "      <td>960.0</td>\n",
       "      <td>13.6</td>\n",
       "      <td>12.92</td>\n",
       "    </tr>\n",
       "    <tr>\n",
       "      <th>1</th>\n",
       "      <td>Amarillo, TX</td>\n",
       "      <td>2</td>\n",
       "      <td>26.1</td>\n",
       "      <td>53.1</td>\n",
       "      <td>1244.0</td>\n",
       "      <td>13.6</td>\n",
       "      <td>12.92</td>\n",
       "    </tr>\n",
       "    <tr>\n",
       "      <th>2</th>\n",
       "      <td>Amarillo, TX</td>\n",
       "      <td>3</td>\n",
       "      <td>32.0</td>\n",
       "      <td>60.8</td>\n",
       "      <td>1631.0</td>\n",
       "      <td>13.6</td>\n",
       "      <td>12.92</td>\n",
       "    </tr>\n",
       "    <tr>\n",
       "      <th>3</th>\n",
       "      <td>Amarillo, TX</td>\n",
       "      <td>4</td>\n",
       "      <td>42.0</td>\n",
       "      <td>71.0</td>\n",
       "      <td>2019.0</td>\n",
       "      <td>13.6</td>\n",
       "      <td>12.92</td>\n",
       "    </tr>\n",
       "    <tr>\n",
       "      <th>4</th>\n",
       "      <td>Amarillo, TX</td>\n",
       "      <td>5</td>\n",
       "      <td>51.9</td>\n",
       "      <td>79.1</td>\n",
       "      <td>2212.0</td>\n",
       "      <td>13.6</td>\n",
       "      <td>12.92</td>\n",
       "    </tr>\n",
       "  </tbody>\n",
       "</table>\n",
       "</div>"
      ],
      "text/plain": [
       "       Location Time_Code  TAN_F  TAX_F       I     v  PA_atm\n",
       "0  Amarillo, TX         1   21.7   49.1   960.0  13.6   12.92\n",
       "1  Amarillo, TX         2   26.1   53.1  1244.0  13.6   12.92\n",
       "2  Amarillo, TX         3   32.0   60.8  1631.0  13.6   12.92\n",
       "3  Amarillo, TX         4   42.0   71.0  2019.0  13.6   12.92\n",
       "4  Amarillo, TX         5   51.9   79.1  2212.0  13.6   12.92"
      ]
     },
     "execution_count": 59,
     "metadata": {},
     "output_type": "execute_result"
    }
   ],
   "source": [
    "met_data = pd.read_csv(\"ref_docs/ref_csv_files/ap42_ch7_met_data.csv\")\n",
    "met_data.head()"
   ]
  },
  {
   "cell_type": "code",
   "execution_count": 102,
   "metadata": {},
   "outputs": [
    {
     "data": {
      "text/plain": [
       "'Denver, CO'"
      ]
     },
     "execution_count": 102,
     "metadata": {},
     "output_type": "execute_result"
    }
   ],
   "source": [
    "city = 'Denver'\n",
    "state = 'CO'\n",
    "location = city+\", \"+state\n",
    "location"
   ]
  },
  {
   "cell_type": "code",
   "execution_count": 103,
   "metadata": {},
   "outputs": [
    {
     "data": {
      "text/html": [
       "<div>\n",
       "<style scoped>\n",
       "    .dataframe tbody tr th:only-of-type {\n",
       "        vertical-align: middle;\n",
       "    }\n",
       "\n",
       "    .dataframe tbody tr th {\n",
       "        vertical-align: top;\n",
       "    }\n",
       "\n",
       "    .dataframe thead th {\n",
       "        text-align: right;\n",
       "    }\n",
       "</style>\n",
       "<table border=\"1\" class=\"dataframe\">\n",
       "  <thead>\n",
       "    <tr style=\"text-align: right;\">\n",
       "      <th></th>\n",
       "      <th>Location</th>\n",
       "      <th>Time_Code</th>\n",
       "      <th>TAN_F</th>\n",
       "      <th>TAX_F</th>\n",
       "      <th>I</th>\n",
       "      <th>v</th>\n",
       "      <th>PA_atm</th>\n",
       "    </tr>\n",
       "  </thead>\n",
       "  <tbody>\n",
       "    <tr>\n",
       "      <th>220</th>\n",
       "      <td>Denver, CO</td>\n",
       "      <td>Annual</td>\n",
       "      <td>36.233333</td>\n",
       "      <td>64.258333</td>\n",
       "      <td>1568.583333</td>\n",
       "      <td>8.7</td>\n",
       "      <td>12.122</td>\n",
       "    </tr>\n",
       "  </tbody>\n",
       "</table>\n",
       "</div>"
      ],
      "text/plain": [
       "       Location Time_Code      TAN_F      TAX_F            I    v  PA_atm\n",
       "220  Denver, CO    Annual  36.233333  64.258333  1568.583333  8.7  12.122"
      ]
     },
     "execution_count": 103,
     "metadata": {},
     "output_type": "execute_result"
    }
   ],
   "source": [
    "# pull in TAX, TAN and I from Table \n",
    "\n",
    "mask = (met_data['Location'] == location) & (met_data['Time_Code'] == 'Annual')\n",
    "location_data = met_data.loc[mask]\n",
    "location_data"
   ]
  },
  {
   "cell_type": "code",
   "execution_count": 112,
   "metadata": {},
   "outputs": [
    {
     "data": {
      "text/plain": [
       "64.25833333"
      ]
     },
     "execution_count": 112,
     "metadata": {},
     "output_type": "execute_result"
    }
   ],
   "source": [
    "TAN = location_data['TAN_F'].tolist()\n",
    "TAN = TAN[0]\n",
    "# TAN = TAN * ureg.degF\n",
    "TAX "
   ]
  },
  {
   "cell_type": "code",
   "execution_count": 113,
   "metadata": {},
   "outputs": [
    {
     "data": {
      "text/plain": [
       "64.25833333"
      ]
     },
     "execution_count": 113,
     "metadata": {},
     "output_type": "execute_result"
    }
   ],
   "source": [
    "TAX = location_data['TAX_F'].tolist()\n",
    "TAX = TAX[0]\n",
    "# TAN = TAN * ureg.degF\n",
    "TAX"
   ]
  },
  {
   "cell_type": "code",
   "execution_count": 124,
   "metadata": {},
   "outputs": [
    {
     "data": {
      "text/html": [
       "\\[1568.583333\\ british\\_thermal\\_unit/(day\\ foot^2)\\]"
      ],
      "text/latex": [
       "$1568.583333\\ \\frac{\\mathrm{british\\_thermal\\_unit}}{\\left(\\mathrm{day} \\cdot \\mathrm{foot}^{2}\\right)}$"
      ],
      "text/plain": [
       "1568.583333 <Unit('british_thermal_unit / day / foot ** 2')>"
      ]
     },
     "execution_count": 124,
     "metadata": {},
     "output_type": "execute_result"
    }
   ],
   "source": [
    "# AVERAGE DAILY TOTAL INSOLATION FACTOR, Btu/ft^2*d\n",
    "I = location_data['I'].tolist()\n",
    "I = I[0]\n",
    "I = I * ureg.BTU / ureg.ft**2 / ureg.day\n",
    "I"
   ]
  },
  {
   "cell_type": "code",
   "execution_count": 111,
   "metadata": {},
   "outputs": [
    {
     "data": {
      "text/html": [
       "\\[8.7\\ mile\\_per\\_hour\\]"
      ],
      "text/latex": [
       "$8.7\\ \\mathrm{mile\\_per\\_hour}$"
      ],
      "text/plain": [
       "8.7 <Unit('mile_per_hour')>"
      ]
     },
     "execution_count": 111,
     "metadata": {},
     "output_type": "execute_result"
    }
   ],
   "source": [
    "# AVERAGE WIND SPEED, mph\n",
    "v = location_data['v'].tolist()\n",
    "v = v[0]\n",
    "v * ureg.mph"
   ]
  },
  {
   "cell_type": "code",
   "execution_count": 115,
   "metadata": {},
   "outputs": [
    {
     "data": {
      "text/html": [
       "\\[12.122\\ pound\\_force\\_per\\_square\\_inch\\]"
      ],
      "text/latex": [
       "$12.122\\ \\mathrm{pound\\_force\\_per\\_square\\_inch}$"
      ],
      "text/plain": [
       "12.122 <Unit('pound_force_per_square_inch')>"
      ]
     },
     "execution_count": 115,
     "metadata": {},
     "output_type": "execute_result"
    }
   ],
   "source": [
    "PA = location_data['PA_atm'].tolist()\n",
    "PA = PA[0]\n",
    "PA * ureg.psi"
   ]
  },
  {
   "cell_type": "markdown",
   "metadata": {},
   "source": [
    "### KS, Vented Vapor Space Saturation Factor"
   ]
  },
  {
   "cell_type": "markdown",
   "metadata": {},
   "source": [
    "### KE, Vapor Space Expansion Factor"
   ]
  },
  {
   "cell_type": "markdown",
   "metadata": {},
   "source": [
    "### WV, Vapor Density"
   ]
  },
  {
   "cell_type": "code",
   "execution_count": null,
   "metadata": {},
   "outputs": [],
   "source": [
    "# VAPOR DENSITY, \n",
    "\n",
    "WV = ((MV * PVA) / (R * TLA))\n",
    "\n",
    "# MV = \n",
    "# PVA = \n",
    "# R = \n",
    "# TLA = "
   ]
  },
  {
   "cell_type": "markdown",
   "metadata": {},
   "source": [
    "### VV, Tank Vapor Space Volume"
   ]
  },
  {
   "cell_type": "markdown",
   "metadata": {},
   "source": [
    "##### Tank Shell Radius"
   ]
  },
  {
   "cell_type": "code",
   "execution_count": 19,
   "metadata": {},
   "outputs": [
    {
     "data": {
      "text/html": [
       "\\[3.0\\ foot\\]"
      ],
      "text/latex": [
       "$3.0\\ \\mathrm{foot}$"
      ],
      "text/plain": [
       "3.0 <Unit('foot')>"
      ]
     },
     "execution_count": 19,
     "metadata": {},
     "output_type": "execute_result"
    }
   ],
   "source": [
    "# TANK SHELL RADIUS, ft\n",
    "# D = diameter, ft\n",
    "\n",
    "RS = (1/2) * D\n",
    "RS"
   ]
  },
  {
   "cell_type": "markdown",
   "metadata": {},
   "source": [
    "##### Tank Roof Height"
   ]
  },
  {
   "cell_type": "code",
   "execution_count": 20,
   "metadata": {},
   "outputs": [
    {
     "data": {
      "text/html": [
       "\\[0.1875\\ foot\\]"
      ],
      "text/latex": [
       "$0.1875\\ \\mathrm{foot}$"
      ],
      "text/plain": [
       "0.1875 <Unit('foot')>"
      ]
     },
     "execution_count": 20,
     "metadata": {},
     "output_type": "execute_result"
    }
   ],
   "source": [
    "# Tank Roof Height, ft\n",
    "# SR = tank cone roof slope, ft/ft\n",
    "# RS = tank shell radius, ft\n",
    "\n",
    "HR = SR * RS\n",
    "HR\n",
    "# HR = SR * (1/2) * D"
   ]
  },
  {
   "cell_type": "markdown",
   "metadata": {},
   "source": [
    "##### Roof Outage"
   ]
  },
  {
   "cell_type": "code",
   "execution_count": 21,
   "metadata": {},
   "outputs": [],
   "source": [
    "# ROOF OUTAGE, ft (Eq. 1-17)\n",
    "# HR = tank roof height, ft\n",
    "\n",
    "HRO = (1/3) * HR\n",
    "HRO.ito_reduced_units()\n",
    "# HRO = (1/3) * SR * (1/2) * D"
   ]
  },
  {
   "cell_type": "markdown",
   "metadata": {},
   "source": [
    "##### Vapor Space Outage"
   ]
  },
  {
   "cell_type": "code",
   "execution_count": 22,
   "metadata": {},
   "outputs": [
    {
     "data": {
      "text/html": [
       "\\[4.0625\\ foot\\]"
      ],
      "text/latex": [
       "$4.0625\\ \\mathrm{foot}$"
      ],
      "text/plain": [
       "4.0625 <Unit('foot')>"
      ]
     },
     "execution_count": 22,
     "metadata": {},
     "output_type": "execute_result"
    }
   ],
   "source": [
    "# VAPOR SPACE OUTAGE, ft (Eq. 1-16)\n",
    "# HS = tank shell height, ft\n",
    "# HL = stock liquid height, ft\n",
    "# HRO = roof outage, ft\n",
    "\n",
    "HVO = HS - HL + HRO\n",
    "HVO\n",
    "# HVO = HS - HL + (1/3) * SR * (1/2) * D"
   ]
  },
  {
   "cell_type": "markdown",
   "metadata": {},
   "source": [
    "##### Vapor Space Volume"
   ]
  },
  {
   "cell_type": "code",
   "execution_count": 23,
   "metadata": {},
   "outputs": [
    {
     "data": {
      "text/html": [
       "\\[114.86\\ foot^3\\]"
      ],
      "text/latex": [
       "$114.86\\ \\mathrm{foot}^{3}$"
      ],
      "text/plain": [
       "114.86 <Unit('foot ** 3')>"
      ]
     },
     "execution_count": 23,
     "metadata": {},
     "output_type": "execute_result"
    }
   ],
   "source": [
    "# TANK VAPOR SPACE VOLUME, ft^3 (Eq. 1-3)\n",
    "# D = diameter, ft\n",
    "# HVO = vapor space outage, ft\n",
    "\n",
    "VV = (((math.pi/4) * D**2) * HVO).round(2)\n",
    "VV\n",
    "# VV = (((math.pi/4) * D**2) * (HS - HL + (1/3) * SR * (1/2) * D)).round(2)"
   ]
  },
  {
   "cell_type": "markdown",
   "metadata": {},
   "source": [
    "### LS, Standing Losses"
   ]
  },
  {
   "cell_type": "code",
   "execution_count": 25,
   "metadata": {},
   "outputs": [],
   "source": [
    "# STANDING LOSSES (Eq. 1-2)\n",
    "\n",
    "# LS = 365 * VV * WV * KE * KS\n",
    "\n",
    "# VV = tank vapor space volume, ft^3\n",
    "# WV = vapor density, lb/ft3\n",
    "# KE = vapor space expansion factor, per day\n",
    "# KS = vented vapor space saturation factor, dimensionless"
   ]
  },
  {
   "cell_type": "markdown",
   "metadata": {},
   "source": [
    "### VQ, Net Working Loss Throughput"
   ]
  },
  {
   "cell_type": "code",
   "execution_count": null,
   "metadata": {},
   "outputs": [],
   "source": [
    "# VQ = net working loss throughput, ft^3/yr"
   ]
  },
  {
   "cell_type": "markdown",
   "metadata": {},
   "source": [
    "### KN, Working Loss Turnover Factor"
   ]
  },
  {
   "cell_type": "code",
   "execution_count": null,
   "metadata": {},
   "outputs": [],
   "source": [
    "# KN = working loss turnover factor, dimensionless"
   ]
  },
  {
   "cell_type": "markdown",
   "metadata": {},
   "source": [
    "### KP, Working Loss Product Factor"
   ]
  },
  {
   "cell_type": "code",
   "execution_count": null,
   "metadata": {},
   "outputs": [],
   "source": [
    "# KP = working loss product factor, dimensionless"
   ]
  },
  {
   "cell_type": "markdown",
   "metadata": {},
   "source": [
    "### KB, Vent Setting Correction Factor"
   ]
  },
  {
   "cell_type": "code",
   "execution_count": null,
   "metadata": {},
   "outputs": [],
   "source": [
    "# KB = vent setting correction factor, dimensionless"
   ]
  },
  {
   "cell_type": "markdown",
   "metadata": {},
   "source": [
    "### LW, Working Losses"
   ]
  },
  {
   "cell_type": "code",
   "execution_count": null,
   "metadata": {},
   "outputs": [],
   "source": [
    "# WORKING LOSSES (Eq. 1-35)\n",
    "\n",
    "LW = VQ * KN * KP * WV * KB\n",
    "\n",
    "# VQ = net working loss throughput, ft^3/yr\n",
    "# KN = working loss turnover factor, dimensionless\n",
    "# KP = working loss product factor, dimensionless\n",
    "# KB = vent setting correction factor, dimensionless"
   ]
  },
  {
   "cell_type": "markdown",
   "metadata": {},
   "source": [
    "### LT, Total Losses"
   ]
  },
  {
   "cell_type": "code",
   "execution_count": null,
   "metadata": {},
   "outputs": [],
   "source": [
    "# TOTAL LOSSES (Eq. 1-1)\n",
    "\n",
    "LT = LS + LW\n",
    "\n",
    "# LT = total loss, lb/yr\n",
    "# LS = standing loss, lb/yr\n",
    "# LW = working loss, lb/yr "
   ]
  },
  {
   "cell_type": "markdown",
   "metadata": {},
   "source": [
    "### Output"
   ]
  },
  {
   "cell_type": "code",
   "execution_count": 26,
   "metadata": {},
   "outputs": [
    {
     "name": "stdout",
     "output_type": "stream",
     "text": [
      "Tank Shell Radius:  3.0 foot\n",
      "RS = (1/2) * D\n",
      "RS =  3.0 foot  = (1/2) *  6 foot\n",
      " \n",
      "Tank Roof Height:  0.1875 foot\n",
      "HR = SR * RS\n",
      "HR =  0.1875 foot  =  0.0625 dimensionless  *  3.0 foot\n",
      " \n",
      "Roof Outage:  0.0625 foot\n",
      "HRO = (1/3) * HR, (Eq. 1-17)\n",
      "HRO =  0.0625 foot  = (1/3) *  0.1875 foot\n",
      " \n",
      "Vapor Space Outage:  4.0625 foot\n",
      "HVO = HS - HL + HRO, (Eq. 1-16)\n",
      "HVO =  4.0625 foot  =  12 foot  -  8 foot  +  0.0625 foot\n",
      " \n",
      "Tank Vapor Space Volume:  114.86 foot ** 3\n",
      "VV = (((math.pi/4) * D**2) * HVO), (Eq. 1-3)\n",
      "VV =  114.86 foot ** 3  = (((pi/4) *  6 foot **2) *  4.0625 foot\n",
      " \n"
     ]
    }
   ],
   "source": [
    "print (\"Tank Shell Radius: \", RS)\n",
    "print (\"RS = (1/2) * D\")\n",
    "print (\"RS = \",RS,\" = (1/2) * \",D)\n",
    "print (\" \")\n",
    "print (\"Tank Roof Height: \", HR)\n",
    "print (\"HR = SR * RS\")\n",
    "print (\"HR = \",HR,\" = \",SR,\" * \",RS)\n",
    "print (\" \")\n",
    "print (\"Roof Outage: \", HRO)\n",
    "print (\"HRO = (1/3) * HR, (Eq. 1-17)\")\n",
    "print (\"HRO = \",HRO,\" = (1/3) * \",HR)\n",
    "print (\" \")\n",
    "print (\"Vapor Space Outage: \", HVO)\n",
    "print (\"HVO = HS - HL + HRO, (Eq. 1-16)\")\n",
    "print (\"HVO = \",HVO,\" = \",HS,\" - \",HL,\" + \",HRO)\n",
    "print (\" \")\n",
    "print (\"Tank Vapor Space Volume: \", VV)\n",
    "print (\"VV = (((math.pi/4) * D**2) * HVO), (Eq. 1-3)\")\n",
    "print (\"VV = \",VV,\" = (((pi/4) * \",D,\"**2) * \",HVO)\n",
    "print (\" \")"
   ]
  },
  {
   "cell_type": "code",
   "execution_count": null,
   "metadata": {},
   "outputs": [],
   "source": []
  }
 ],
 "metadata": {
  "kernelspec": {
   "display_name": "Conda [PythonData]",
   "language": "python",
   "name": "pythondata"
  },
  "language_info": {
   "codemirror_mode": {
    "name": "ipython",
    "version": 3
   },
   "file_extension": ".py",
   "mimetype": "text/x-python",
   "name": "python",
   "nbconvert_exporter": "python",
   "pygments_lexer": "ipython3",
   "version": "3.6.9"
  }
 },
 "nbformat": 4,
 "nbformat_minor": 2
}
